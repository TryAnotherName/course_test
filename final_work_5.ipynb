{
  "cells": [
    {
      "cell_type": "markdown",
      "metadata": {
        "colab_type": "text",
        "id": "view-in-github"
      },
      "source": [
        "<a href=\"https://colab.research.google.com/github/TryAnotherName/course_test/blob/main/final_work_5.ipynb\" target=\"_parent\"><img src=\"https://colab.research.google.com/assets/colab-badge.svg\" alt=\"Open In Colab\"/></a>"
      ]
    },
    {
      "cell_type": "code",
      "execution_count": 1,
      "metadata": {
        "colab": {
          "base_uri": "https://localhost:8080/"
        },
        "id": "IviRdMKKagLQ",
        "outputId": "dfd50958-1171-4f2a-e582-f96fe65db12f"
      },
      "outputs": [
        {
          "name": "stdout",
          "output_type": "stream",
          "text": [
            "Collecting pyspark\n",
            "  Downloading pyspark-3.5.3.tar.gz (317.3 MB)\n",
            "\u001b[2K     \u001b[90m━━━━━━━━━━━━━━━━━━━━━━━━━━━━━━━━━━━━━━━━\u001b[0m \u001b[32m317.3/317.3 MB\u001b[0m \u001b[31m4.2 MB/s\u001b[0m eta \u001b[36m0:00:00\u001b[0m\n",
            "\u001b[?25h  Preparing metadata (setup.py) ... \u001b[?25l\u001b[?25hdone\n",
            "Requirement already satisfied: py4j in /usr/local/lib/python3.10/dist-packages (0.10.9.7)\n",
            "Collecting faker\n",
            "  Downloading Faker-30.1.0-py3-none-any.whl.metadata (15 kB)\n",
            "Requirement already satisfied: python-dateutil>=2.4 in /usr/local/lib/python3.10/dist-packages (from faker) (2.8.2)\n",
            "Requirement already satisfied: typing-extensions in /usr/local/lib/python3.10/dist-packages (from faker) (4.12.2)\n",
            "Requirement already satisfied: six>=1.5 in /usr/local/lib/python3.10/dist-packages (from python-dateutil>=2.4->faker) (1.16.0)\n",
            "Downloading Faker-30.1.0-py3-none-any.whl (1.8 MB)\n",
            "\u001b[2K   \u001b[90m━━━━━━━━━━━━━━━━━━━━━━━━━━━━━━━━━━━━━━━━\u001b[0m \u001b[32m1.8/1.8 MB\u001b[0m \u001b[31m40.5 MB/s\u001b[0m eta \u001b[36m0:00:00\u001b[0m\n",
            "\u001b[?25hBuilding wheels for collected packages: pyspark\n",
            "  Building wheel for pyspark (setup.py) ... \u001b[?25l\u001b[?25hdone\n",
            "  Created wheel for pyspark: filename=pyspark-3.5.3-py2.py3-none-any.whl size=317840625 sha256=2bb1229865f1f94d881f7a329132eb6acc095008742b46bb2348aed289db5877\n",
            "  Stored in directory: /root/.cache/pip/wheels/1b/3a/92/28b93e2fbfdbb07509ca4d6f50c5e407f48dce4ddbda69a4ab\n",
            "Successfully built pyspark\n",
            "Installing collected packages: pyspark, faker\n",
            "Successfully installed faker-30.1.0 pyspark-3.5.3\n"
          ]
        }
      ],
      "source": [
        "# Раскомментить, если либы не установлены\n",
        "\n",
        "# pip install pyspark py4j"
      ]
    },
    {
      "cell_type": "code",
      "execution_count": 44,
      "metadata": {
        "id": "3o5xO0L_b_HA"
      },
      "outputs": [],
      "source": [
        "# Импортим нужные функции\n",
        "from pyspark.sql import SparkSession\n",
        "from pyspark.sql.functions import count\n",
        "from pyspark.sql.functions import col\n",
        "from pyspark.sql.functions import sum as summary\n",
        "from pyspark.sql.functions import to_date"
      ]
    },
    {
      "cell_type": "code",
      "execution_count": 14,
      "metadata": {
        "colab": {
          "base_uri": "https://localhost:8080/"
        },
        "id": "rjhR6Klwa3Wp",
        "outputId": "56746d13-f903-4a26-fa1e-341cdd0ec5ef"
      },
      "outputs": [
        {
          "name": "stdout",
          "output_type": "stream",
          "text": [
            "root\n",
            " |-- ip: string (nullable = true)\n",
            " |-- timestamp: timestamp (nullable = true)\n",
            " |-- method: string (nullable = true)\n",
            " |-- url: string (nullable = true)\n",
            " |-- response_code: integer (nullable = true)\n",
            " |-- response_size: integer (nullable = true)\n",
            "\n",
            "+---------------+--------------------+------+--------------------+-------------+-------------+\n",
            "|             ip|           timestamp|method|                 url|response_code|response_size|\n",
            "+---------------+--------------------+------+--------------------+-------------+-------------+\n",
            "|  195.20.196.25|2024-08-23 04:21:...|DELETE|tags/wp-content/c...|          301|         2993|\n",
            "|182.212.187.100|2024-08-25 06:34:...|   GET|          tag/search|          404|          579|\n",
            "|146.131.177.176|2024-01-13 05:58:...|  POST|      categories/tag|          404|         5922|\n",
            "| 104.181.93.163|2024-04-15 12:45:...|DELETE|               posts|          301|         4479|\n",
            "| 92.151.163.149|2024-04-22 07:34:...|DELETE|          categories|          200|         3150|\n",
            "| 187.176.31.251|2024-02-16 07:02:...|   GET|   search/categories|          301|         9797|\n",
            "|    132.71.6.10|2024-04-24 16:42:...|  POST|                 tag|          200|         2095|\n",
            "| 115.209.184.55|2024-05-26 08:50:...|   GET|categories/wp-con...|          404|         3584|\n",
            "| 174.187.59.168|2024-08-09 19:13:...|DELETE|          posts/main|          500|         7233|\n",
            "|  212.125.91.74|2024-09-16 13:37:...|   GET|search/categories...|          200|         5063|\n",
            "|   63.235.138.0|2024-09-23 04:23:...|  POST|             explore|          500|         2296|\n",
            "|  24.251.30.101|2024-03-04 05:03:...|  POST|                tags|          301|         2025|\n",
            "|  218.16.119.90|2024-06-09 09:00:...|   GET|     blog/categories|          404|         8330|\n",
            "|   213.37.77.78|2024-08-08 06:27:...|   GET|              search|          200|         7759|\n",
            "|  83.238.75.195|2024-05-14 14:53:...|   PUT|      posts/category|          500|         6714|\n",
            "|    114.7.78.41|2024-02-14 08:51:...|  POST|    explore/app/main|          500|          638|\n",
            "|   112.52.2.120|2024-06-08 10:40:...|   PUT|      main/tags/list|          500|         5761|\n",
            "| 216.46.202.217|2024-05-15 20:57:...|   GET|                list|          200|          198|\n",
            "|   21.189.68.65|2024-09-21 08:08:...|   GET|          categories|          500|         8462|\n",
            "|  223.173.64.96|2024-02-27 04:44:...|   GET|category/search/tags|          404|         4858|\n",
            "+---------------+--------------------+------+--------------------+-------------+-------------+\n",
            "only showing top 20 rows\n",
            "\n"
          ]
        }
      ],
      "source": [
        "# Создание SparkSession\n",
        "spark = SparkSession.builder.appName(\"Read CSV\").getOrCreate()\n",
        "\n",
        "# Чтение CSV-файла, вывод схемы и пример данных\n",
        "df = spark.read.csv(\"/content/web_server_logs.csv\", header=True, inferSchema=True)\n",
        "df.printSchema()\n",
        "df.show()\n",
        "df.createOrReplaceTempView(\"site_logs\")"
      ]
    },
    {
      "cell_type": "markdown",
      "metadata": {
        "id": "S_Bs18GcbeDi"
      },
      "source": [
        "# Первое задание\n",
        "## Исполнение через DataFrame API\n"
      ]
    },
    {
      "cell_type": "code",
      "execution_count": 21,
      "metadata": {
        "colab": {
          "base_uri": "https://localhost:8080/"
        },
        "id": "_qMONp0PbDY9",
        "outputId": "3915d960-f7e9-4b36-b249-e46e1db7c32c"
      },
      "outputs": [
        {
          "name": "stdout",
          "output_type": "stream",
          "text": [
            "+--------------+-------------+\n",
            "|            ip|request_count|\n",
            "+--------------+-------------+\n",
            "|186.183.22.102|            2|\n",
            "|22.144.171.196|            1|\n",
            "| 141.200.62.78|            1|\n",
            "|   87.223.2.10|            1|\n",
            "| 72.187.183.18|            1|\n",
            "| 22.117.39.167|            1|\n",
            "|102.215.132.57|            1|\n",
            "| 182.114.72.23|            1|\n",
            "|  44.39.135.82|            1|\n",
            "| 109.99.252.58|            1|\n",
            "+--------------+-------------+\n",
            "only showing top 10 rows\n",
            "\n"
          ]
        }
      ],
      "source": [
        "df.groupBy('ip') \\\n",
        ".agg(count('*').alias('request_count')) \\\n",
        ".orderBy('request_count', ascending=False) \\\n",
        ".show(10)"
      ]
    },
    {
      "cell_type": "markdown",
      "metadata": {
        "id": "TOZwdiH4dKFT"
      },
      "source": [
        "## Исполнение через SQL API"
      ]
    },
    {
      "cell_type": "code",
      "execution_count": 51,
      "metadata": {
        "id": "qWvRl1D3bw1r"
      },
      "outputs": [],
      "source": [
        "first_quest = spark.sql(\"\"\"\n",
        "SELECT ip, COUNT(*) request_count\n",
        "FROM site_logs\n",
        "GROUP BY ip\n",
        "ORDER BY request_count DESC\n",
        "LIMIT 10\n",
        "\"\"\")"
      ]
    },
    {
      "cell_type": "markdown",
      "metadata": {
        "id": "sQXcrPJQeQbT"
      },
      "source": [
        "# Второе задание\n",
        "## Исполнение через DataFrame API"
      ]
    },
    {
      "cell_type": "code",
      "execution_count": 24,
      "metadata": {
        "colab": {
          "base_uri": "https://localhost:8080/"
        },
        "id": "rf3pTfPrcokL",
        "outputId": "8f3017f7-5e7d-422b-e60e-775e588ebccb"
      },
      "outputs": [
        {
          "name": "stdout",
          "output_type": "stream",
          "text": [
            "+------+------------+\n",
            "|method|method_count|\n",
            "+------+------------+\n",
            "|  POST|       25296|\n",
            "|DELETE|       24854|\n",
            "|   PUT|       24927|\n",
            "|   GET|       24923|\n",
            "+------+------------+\n",
            "\n"
          ]
        }
      ],
      "source": [
        "df.groupBy('method') \\\n",
        ".agg(count('*').alias('method_count')) \\\n",
        ".show()"
      ]
    },
    {
      "cell_type": "markdown",
      "metadata": {
        "id": "ZWSFcUPEe-6W"
      },
      "source": [
        "## Исполнение через SQL API"
      ]
    },
    {
      "cell_type": "code",
      "execution_count": 52,
      "metadata": {
        "id": "jpqUnWtRfDjs"
      },
      "outputs": [],
      "source": [
        "second_quest = spark.sql(\"\"\"\n",
        "SELECT method, COUNT(*) method_count\n",
        "FROM site_logs\n",
        "GROUP BY method\n",
        "\"\"\")"
      ]
    },
    {
      "cell_type": "markdown",
      "metadata": {
        "id": "8vpqpGjvfP8n"
      },
      "source": [
        "# Третье задание\n",
        "## Исполнение через DataFrame API"
      ]
    },
    {
      "cell_type": "code",
      "execution_count": 37,
      "metadata": {
        "colab": {
          "base_uri": "https://localhost:8080/"
        },
        "id": "lzbsgKYvfDmp",
        "outputId": "092dd430-8e41-458f-800a-6c077b92538a"
      },
      "outputs": [
        {
          "data": {
            "text/plain": [
              "25142"
            ]
          },
          "execution_count": 37,
          "metadata": {},
          "output_type": "execute_result"
        }
      ],
      "source": [
        "df.filter(col('response_code') == 404) \\\n",
        ".count()"
      ]
    },
    {
      "cell_type": "markdown",
      "metadata": {
        "id": "Vb0JfpM5giL7"
      },
      "source": [
        "## Исполнение через SQL API"
      ]
    },
    {
      "cell_type": "code",
      "execution_count": 53,
      "metadata": {
        "id": "ik3ogvB9fDpQ"
      },
      "outputs": [],
      "source": [
        "third_quest = spark.sql(\"\"\"\n",
        "SELECT COUNT(*) response_count\n",
        "FROM site_logs\n",
        "WHERE response_code = 404\n",
        "\"\"\")"
      ]
    },
    {
      "cell_type": "markdown",
      "metadata": {
        "id": "0Bcckpr-g_PK"
      },
      "source": [
        "# Четвертое задание\n",
        "## Исполнение через DataFrame API"
      ]
    },
    {
      "cell_type": "code",
      "execution_count": 46,
      "metadata": {
        "colab": {
          "base_uri": "https://localhost:8080/"
        },
        "id": "Yzr24qUqfDsB",
        "outputId": "510fafcf-8da6-4bfe-aa43-77e8c94804a8"
      },
      "outputs": [
        {
          "name": "stdout",
          "output_type": "stream",
          "text": [
            "+----------+-------------------+\n",
            "|      date|total_response_size|\n",
            "+----------+-------------------+\n",
            "|2024-01-01|            1835502|\n",
            "|2024-01-02|            1853829|\n",
            "|2024-01-03|            1848673|\n",
            "|2024-01-04|            1909639|\n",
            "|2024-01-05|            1844522|\n",
            "|2024-01-06|            1861087|\n",
            "|2024-01-07|            2032972|\n",
            "|2024-01-08|            1711595|\n",
            "|2024-01-09|            1790842|\n",
            "|2024-01-10|            1903851|\n",
            "|2024-01-11|            1857280|\n",
            "|2024-01-12|            1734784|\n",
            "|2024-01-13|            1896822|\n",
            "|2024-01-14|            1938702|\n",
            "|2024-01-15|            1736091|\n",
            "|2024-01-16|            1847198|\n",
            "|2024-01-17|            1811768|\n",
            "|2024-01-18|            1816352|\n",
            "|2024-01-19|            1707781|\n",
            "|2024-01-20|            1976929|\n",
            "+----------+-------------------+\n",
            "only showing top 20 rows\n",
            "\n"
          ]
        }
      ],
      "source": [
        "df.groupBy(to_date('timestamp').alias('date')) \\\n",
        ".agg(summary('response_size').alias('total_response_size')) \\\n",
        ".orderBy('date') \\\n",
        ".show()"
      ]
    },
    {
      "cell_type": "markdown",
      "metadata": {
        "id": "eeJt4lE5iLj-"
      },
      "source": [
        "## Исполнение через SQL API"
      ]
    },
    {
      "cell_type": "code",
      "execution_count": 54,
      "metadata": {
        "id": "tgdBLN5bfDum"
      },
      "outputs": [],
      "source": [
        "fourth_quest = spark.sql(\"\"\"\n",
        "SELECT DATE(timestamp) date, SUM(response_size) total_response_size\n",
        "FROM site_logs\n",
        "GROUP BY date\n",
        "ORDER BY date\n",
        "\"\"\")"
      ]
    },
    {
      "cell_type": "markdown",
      "metadata": {
        "id": "XYb9BJIejXlB"
      },
      "source": [
        "# Вывод итоговых результатов в требуемом формате"
      ]
    },
    {
      "cell_type": "code",
      "execution_count": 67,
      "metadata": {
        "colab": {
          "base_uri": "https://localhost:8080/"
        },
        "id": "bB5Wd2R7fDxW",
        "outputId": "e6c027ec-498e-4670-d555-9aee0ca8fe04"
      },
      "outputs": [
        {
          "name": "stdout",
          "output_type": "stream",
          "text": [
            "Top 10 active IP addresses:\n",
            "+--------------+-------------+\n",
            "|            ip|request_count|\n",
            "+--------------+-------------+\n",
            "|186.183.22.102|            2|\n",
            "|22.144.171.196|            1|\n",
            "| 141.200.62.78|            1|\n",
            "|   87.223.2.10|            1|\n",
            "| 72.187.183.18|            1|\n",
            "| 22.117.39.167|            1|\n",
            "|102.215.132.57|            1|\n",
            "| 182.114.72.23|            1|\n",
            "|  44.39.135.82|            1|\n",
            "| 109.99.252.58|            1|\n",
            "+--------------+-------------+\n",
            "\n",
            "Request count by HTTP method:\n",
            "+------+------------+\n",
            "|method|method_count|\n",
            "+------+------------+\n",
            "|  POST|       25296|\n",
            "|DELETE|       24854|\n",
            "|   PUT|       24927|\n",
            "|   GET|       24923|\n",
            "+------+------------+\n",
            "\n",
            "Number of 404 response codes: 25142\n",
            "Total response size by day:\n",
            "+----------+-------------------+\n",
            "|      date|total_response_size|\n",
            "+----------+-------------------+\n",
            "|2024-01-01|            1835502|\n",
            "|2024-01-02|            1853829|\n",
            "|2024-01-03|            1848673|\n",
            "|2024-01-04|            1909639|\n",
            "|2024-01-05|            1844522|\n",
            "|2024-01-06|            1861087|\n",
            "|2024-01-07|            2032972|\n",
            "|2024-01-08|            1711595|\n",
            "|2024-01-09|            1790842|\n",
            "|2024-01-10|            1903851|\n",
            "|2024-01-11|            1857280|\n",
            "|2024-01-12|            1734784|\n",
            "|2024-01-13|            1896822|\n",
            "|2024-01-14|            1938702|\n",
            "|2024-01-15|            1736091|\n",
            "|2024-01-16|            1847198|\n",
            "|2024-01-17|            1811768|\n",
            "|2024-01-18|            1816352|\n",
            "|2024-01-19|            1707781|\n",
            "|2024-01-20|            1976929|\n",
            "+----------+-------------------+\n",
            "only showing top 20 rows\n",
            "\n"
          ]
        }
      ],
      "source": [
        "print('Top 10 active IP addresses:')\n",
        "first_quest.show()\n",
        "print('Request count by HTTP method:')\n",
        "second_quest.show()\n",
        "print('Number of 404 response codes:', third_quest.collect()[0][0])\n",
        "print('Total response size by day:')\n",
        "fourth_quest.show()"
      ]
    },
    {
      "cell_type": "code",
      "execution_count": null,
      "metadata": {
        "id": "4qqb2839cpor"
      },
      "outputs": [],
      "source": [
        "spark.stop()"
      ]
    }
  ],
  "metadata": {
    "colab": {
      "authorship_tag": "ABX9TyOXjG/w6fifEhTsWdYORUmj",
      "include_colab_link": true,
      "provenance": []
    },
    "kernelspec": {
      "display_name": "Python 3",
      "name": "python3"
    },
    "language_info": {
      "name": "python"
    }
  },
  "nbformat": 4,
  "nbformat_minor": 0
}
